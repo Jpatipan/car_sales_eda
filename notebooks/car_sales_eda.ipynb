{
 "cells": [
  {
   "cell_type": "code",
   "execution_count": 24,
   "id": "5d86a21a-6450-49ab-90b6-4f6bf8759730",
   "metadata": {},
   "outputs": [],
   "source": [
    "import pandas as pd\n",
    "import numpy as np"
   ]
  },
  {
   "cell_type": "code",
   "execution_count": 25,
   "id": "42476932-8088-4d65-8f0a-c761e72efcef",
   "metadata": {},
   "outputs": [],
   "source": [
    "#อ่านไฟล์ข้อมูลจาก car_sales.csv\n",
    "df = pd.read_csv('car_sales.csv')"
   ]
  },
  {
   "cell_type": "code",
   "execution_count": 26,
   "id": "7b27372b-4807-4f53-9c93-224e9d5a8cc4",
   "metadata": {},
   "outputs": [
    {
     "data": {
      "text/html": [
       "<div>\n",
       "<style scoped>\n",
       "    .dataframe tbody tr th:only-of-type {\n",
       "        vertical-align: middle;\n",
       "    }\n",
       "\n",
       "    .dataframe tbody tr th {\n",
       "        vertical-align: top;\n",
       "    }\n",
       "\n",
       "    .dataframe thead th {\n",
       "        text-align: right;\n",
       "    }\n",
       "</style>\n",
       "<table border=\"1\" class=\"dataframe\">\n",
       "  <thead>\n",
       "    <tr style=\"text-align: right;\">\n",
       "      <th></th>\n",
       "      <th>Car_id</th>\n",
       "      <th>Date</th>\n",
       "      <th>Customer Name</th>\n",
       "      <th>Gender</th>\n",
       "      <th>Annual Income</th>\n",
       "      <th>Dealer_Name</th>\n",
       "      <th>Company</th>\n",
       "      <th>Model</th>\n",
       "      <th>Engine</th>\n",
       "      <th>Transmission</th>\n",
       "      <th>Color</th>\n",
       "      <th>Price ($)</th>\n",
       "      <th>Dealer_No</th>\n",
       "      <th>Body Style</th>\n",
       "      <th>Phone</th>\n",
       "      <th>Dealer_Region</th>\n",
       "    </tr>\n",
       "  </thead>\n",
       "  <tbody>\n",
       "    <tr>\n",
       "      <th>0</th>\n",
       "      <td>C_CND_000001</td>\n",
       "      <td>1/2/2022</td>\n",
       "      <td>Geraldine</td>\n",
       "      <td>Male</td>\n",
       "      <td>13500</td>\n",
       "      <td>Buddy Storbeck's Diesel Service Inc</td>\n",
       "      <td>Ford</td>\n",
       "      <td>Expedition</td>\n",
       "      <td>DoubleÂ Overhead Camshaft</td>\n",
       "      <td>Auto</td>\n",
       "      <td>Black</td>\n",
       "      <td>26000</td>\n",
       "      <td>06457-3834</td>\n",
       "      <td>SUV</td>\n",
       "      <td>8264678</td>\n",
       "      <td>Middletown</td>\n",
       "    </tr>\n",
       "    <tr>\n",
       "      <th>1</th>\n",
       "      <td>C_CND_000002</td>\n",
       "      <td>1/2/2022</td>\n",
       "      <td>Gia</td>\n",
       "      <td>Male</td>\n",
       "      <td>1480000</td>\n",
       "      <td>C &amp; M Motors Inc</td>\n",
       "      <td>Dodge</td>\n",
       "      <td>Durango</td>\n",
       "      <td>DoubleÂ Overhead Camshaft</td>\n",
       "      <td>Auto</td>\n",
       "      <td>Black</td>\n",
       "      <td>19000</td>\n",
       "      <td>60504-7114</td>\n",
       "      <td>SUV</td>\n",
       "      <td>6848189</td>\n",
       "      <td>Aurora</td>\n",
       "    </tr>\n",
       "    <tr>\n",
       "      <th>2</th>\n",
       "      <td>C_CND_000003</td>\n",
       "      <td>1/2/2022</td>\n",
       "      <td>Gianna</td>\n",
       "      <td>Male</td>\n",
       "      <td>1035000</td>\n",
       "      <td>Capitol KIA</td>\n",
       "      <td>Cadillac</td>\n",
       "      <td>Eldorado</td>\n",
       "      <td>Overhead Camshaft</td>\n",
       "      <td>Manual</td>\n",
       "      <td>Red</td>\n",
       "      <td>31500</td>\n",
       "      <td>38701-8047</td>\n",
       "      <td>Passenger</td>\n",
       "      <td>7298798</td>\n",
       "      <td>Greenville</td>\n",
       "    </tr>\n",
       "    <tr>\n",
       "      <th>3</th>\n",
       "      <td>C_CND_000004</td>\n",
       "      <td>1/2/2022</td>\n",
       "      <td>Giselle</td>\n",
       "      <td>Male</td>\n",
       "      <td>13500</td>\n",
       "      <td>Chrysler of Tri-Cities</td>\n",
       "      <td>Toyota</td>\n",
       "      <td>Celica</td>\n",
       "      <td>Overhead Camshaft</td>\n",
       "      <td>Manual</td>\n",
       "      <td>Pale White</td>\n",
       "      <td>14000</td>\n",
       "      <td>99301-3882</td>\n",
       "      <td>SUV</td>\n",
       "      <td>6257557</td>\n",
       "      <td>Pasco</td>\n",
       "    </tr>\n",
       "    <tr>\n",
       "      <th>4</th>\n",
       "      <td>C_CND_000005</td>\n",
       "      <td>1/2/2022</td>\n",
       "      <td>Grace</td>\n",
       "      <td>Male</td>\n",
       "      <td>1465000</td>\n",
       "      <td>Chrysler Plymouth</td>\n",
       "      <td>Acura</td>\n",
       "      <td>TL</td>\n",
       "      <td>DoubleÂ Overhead Camshaft</td>\n",
       "      <td>Auto</td>\n",
       "      <td>Red</td>\n",
       "      <td>24500</td>\n",
       "      <td>53546-9427</td>\n",
       "      <td>Hatchback</td>\n",
       "      <td>7081483</td>\n",
       "      <td>Janesville</td>\n",
       "    </tr>\n",
       "  </tbody>\n",
       "</table>\n",
       "</div>"
      ],
      "text/plain": [
       "         Car_id      Date Customer Name Gender  Annual Income  \\\n",
       "0  C_CND_000001  1/2/2022     Geraldine   Male          13500   \n",
       "1  C_CND_000002  1/2/2022           Gia   Male        1480000   \n",
       "2  C_CND_000003  1/2/2022        Gianna   Male        1035000   \n",
       "3  C_CND_000004  1/2/2022       Giselle   Male          13500   \n",
       "4  C_CND_000005  1/2/2022         Grace   Male        1465000   \n",
       "\n",
       "                           Dealer_Name   Company       Model  \\\n",
       "0  Buddy Storbeck's Diesel Service Inc      Ford  Expedition   \n",
       "1                     C & M Motors Inc     Dodge     Durango   \n",
       "2                          Capitol KIA  Cadillac    Eldorado   \n",
       "3               Chrysler of Tri-Cities    Toyota      Celica   \n",
       "4                    Chrysler Plymouth     Acura          TL   \n",
       "\n",
       "                      Engine Transmission       Color  Price ($)  Dealer_No   \\\n",
       "0  DoubleÂ Overhead Camshaft         Auto       Black      26000  06457-3834   \n",
       "1  DoubleÂ Overhead Camshaft         Auto       Black      19000  60504-7114   \n",
       "2          Overhead Camshaft       Manual         Red      31500  38701-8047   \n",
       "3          Overhead Camshaft       Manual  Pale White      14000  99301-3882   \n",
       "4  DoubleÂ Overhead Camshaft         Auto         Red      24500  53546-9427   \n",
       "\n",
       "  Body Style    Phone Dealer_Region  \n",
       "0        SUV  8264678    Middletown  \n",
       "1        SUV  6848189        Aurora  \n",
       "2  Passenger  7298798    Greenville  \n",
       "3        SUV  6257557         Pasco  \n",
       "4  Hatchback  7081483    Janesville  "
      ]
     },
     "execution_count": 26,
     "metadata": {},
     "output_type": "execute_result"
    }
   ],
   "source": [
    "#ดูตัวอย่างชุดข้อมูล 5 แถวแรก\n",
    "df.head()"
   ]
  },
  {
   "cell_type": "code",
   "execution_count": 27,
   "id": "5179f798-9055-44ee-aa73-88a45e9e2c69",
   "metadata": {},
   "outputs": [
    {
     "data": {
      "text/html": [
       "<div>\n",
       "<style scoped>\n",
       "    .dataframe tbody tr th:only-of-type {\n",
       "        vertical-align: middle;\n",
       "    }\n",
       "\n",
       "    .dataframe tbody tr th {\n",
       "        vertical-align: top;\n",
       "    }\n",
       "\n",
       "    .dataframe thead th {\n",
       "        text-align: right;\n",
       "    }\n",
       "</style>\n",
       "<table border=\"1\" class=\"dataframe\">\n",
       "  <thead>\n",
       "    <tr style=\"text-align: right;\">\n",
       "      <th></th>\n",
       "      <th>Car_id</th>\n",
       "      <th>Date</th>\n",
       "      <th>Customer Name</th>\n",
       "      <th>Gender</th>\n",
       "      <th>Annual Income</th>\n",
       "      <th>Dealer_Name</th>\n",
       "      <th>Company</th>\n",
       "      <th>Model</th>\n",
       "      <th>Engine</th>\n",
       "      <th>Transmission</th>\n",
       "      <th>Color</th>\n",
       "      <th>Price ($)</th>\n",
       "      <th>Dealer_No</th>\n",
       "      <th>Body Style</th>\n",
       "      <th>Phone</th>\n",
       "      <th>Dealer_Region</th>\n",
       "    </tr>\n",
       "  </thead>\n",
       "  <tbody>\n",
       "    <tr>\n",
       "      <th>23901</th>\n",
       "      <td>C_CND_023902</td>\n",
       "      <td>12/31/2023</td>\n",
       "      <td>Martin</td>\n",
       "      <td>Male</td>\n",
       "      <td>13500</td>\n",
       "      <td>C &amp; M Motors Inc</td>\n",
       "      <td>Plymouth</td>\n",
       "      <td>Voyager</td>\n",
       "      <td>Overhead Camshaft</td>\n",
       "      <td>Manual</td>\n",
       "      <td>Red</td>\n",
       "      <td>12000</td>\n",
       "      <td>60504-7114</td>\n",
       "      <td>Passenger</td>\n",
       "      <td>8583598</td>\n",
       "      <td>Pasco</td>\n",
       "    </tr>\n",
       "    <tr>\n",
       "      <th>23902</th>\n",
       "      <td>C_CND_023903</td>\n",
       "      <td>12/31/2023</td>\n",
       "      <td>Jimmy</td>\n",
       "      <td>Female</td>\n",
       "      <td>900000</td>\n",
       "      <td>Ryder Truck Rental and Leasing</td>\n",
       "      <td>Chevrolet</td>\n",
       "      <td>Prizm</td>\n",
       "      <td>DoubleÂ Overhead Camshaft</td>\n",
       "      <td>Auto</td>\n",
       "      <td>Black</td>\n",
       "      <td>16000</td>\n",
       "      <td>06457-3834</td>\n",
       "      <td>Hardtop</td>\n",
       "      <td>7914229</td>\n",
       "      <td>Middletown</td>\n",
       "    </tr>\n",
       "    <tr>\n",
       "      <th>23903</th>\n",
       "      <td>C_CND_023904</td>\n",
       "      <td>12/31/2023</td>\n",
       "      <td>Emma</td>\n",
       "      <td>Male</td>\n",
       "      <td>705000</td>\n",
       "      <td>Chrysler of Tri-Cities</td>\n",
       "      <td>BMW</td>\n",
       "      <td>328i</td>\n",
       "      <td>Overhead Camshaft</td>\n",
       "      <td>Manual</td>\n",
       "      <td>Red</td>\n",
       "      <td>21000</td>\n",
       "      <td>99301-3882</td>\n",
       "      <td>Sedan</td>\n",
       "      <td>7659127</td>\n",
       "      <td>Scottsdale</td>\n",
       "    </tr>\n",
       "    <tr>\n",
       "      <th>23904</th>\n",
       "      <td>C_CND_023905</td>\n",
       "      <td>12/31/2023</td>\n",
       "      <td>Victoire</td>\n",
       "      <td>Male</td>\n",
       "      <td>13500</td>\n",
       "      <td>Chrysler Plymouth</td>\n",
       "      <td>Chevrolet</td>\n",
       "      <td>Metro</td>\n",
       "      <td>DoubleÂ Overhead Camshaft</td>\n",
       "      <td>Auto</td>\n",
       "      <td>Black</td>\n",
       "      <td>31000</td>\n",
       "      <td>53546-9427</td>\n",
       "      <td>Passenger</td>\n",
       "      <td>6030764</td>\n",
       "      <td>Austin</td>\n",
       "    </tr>\n",
       "    <tr>\n",
       "      <th>23905</th>\n",
       "      <td>C_CND_023906</td>\n",
       "      <td>12/31/2023</td>\n",
       "      <td>Donovan</td>\n",
       "      <td>Male</td>\n",
       "      <td>1225000</td>\n",
       "      <td>Pars Auto Sales</td>\n",
       "      <td>Lexus</td>\n",
       "      <td>ES300</td>\n",
       "      <td>DoubleÂ Overhead Camshaft</td>\n",
       "      <td>Auto</td>\n",
       "      <td>Pale White</td>\n",
       "      <td>27500</td>\n",
       "      <td>38701-8047</td>\n",
       "      <td>Hardtop</td>\n",
       "      <td>7020564</td>\n",
       "      <td>Middletown</td>\n",
       "    </tr>\n",
       "  </tbody>\n",
       "</table>\n",
       "</div>"
      ],
      "text/plain": [
       "             Car_id        Date Customer Name  Gender  Annual Income  \\\n",
       "23901  C_CND_023902  12/31/2023        Martin    Male          13500   \n",
       "23902  C_CND_023903  12/31/2023         Jimmy  Female         900000   \n",
       "23903  C_CND_023904  12/31/2023          Emma    Male         705000   \n",
       "23904  C_CND_023905  12/31/2023      Victoire    Male          13500   \n",
       "23905  C_CND_023906  12/31/2023       Donovan    Male        1225000   \n",
       "\n",
       "                          Dealer_Name    Company    Model  \\\n",
       "23901                C & M Motors Inc   Plymouth  Voyager   \n",
       "23902  Ryder Truck Rental and Leasing  Chevrolet    Prizm   \n",
       "23903          Chrysler of Tri-Cities        BMW     328i   \n",
       "23904               Chrysler Plymouth  Chevrolet    Metro   \n",
       "23905                 Pars Auto Sales      Lexus    ES300   \n",
       "\n",
       "                          Engine Transmission       Color  Price ($)  \\\n",
       "23901          Overhead Camshaft       Manual         Red      12000   \n",
       "23902  DoubleÂ Overhead Camshaft         Auto       Black      16000   \n",
       "23903          Overhead Camshaft       Manual         Red      21000   \n",
       "23904  DoubleÂ Overhead Camshaft         Auto       Black      31000   \n",
       "23905  DoubleÂ Overhead Camshaft         Auto  Pale White      27500   \n",
       "\n",
       "       Dealer_No  Body Style    Phone Dealer_Region  \n",
       "23901  60504-7114  Passenger  8583598         Pasco  \n",
       "23902  06457-3834    Hardtop  7914229    Middletown  \n",
       "23903  99301-3882      Sedan  7659127    Scottsdale  \n",
       "23904  53546-9427  Passenger  6030764        Austin  \n",
       "23905  38701-8047    Hardtop  7020564    Middletown  "
      ]
     },
     "execution_count": 27,
     "metadata": {},
     "output_type": "execute_result"
    }
   ],
   "source": [
    "#ดูตัวอย่างชุดข้อมูล 5 แถวสุดท้าย\n",
    "df.tail()"
   ]
  },
  {
   "cell_type": "code",
   "execution_count": 28,
   "id": "f827d295-108c-42de-b1ae-2a51a87a939a",
   "metadata": {},
   "outputs": [],
   "source": [
    "#แปลง format วันที่ ให้เป็น ปี-เดือน-วัน\n",
    "df[\"Date\"] = pd.to_datetime(df[\"Date\"], format=\"%m/%d/%Y\", errors=\"coerce\")"
   ]
  },
  {
   "cell_type": "code",
   "execution_count": 29,
   "id": "70fa79be-e4ce-492f-9e6d-0fee4d5866f7",
   "metadata": {},
   "outputs": [],
   "source": [
    "#แยกวันที่ จาก fulldate ให้เป็น month, day, year\n",
    "df[\"month\"] = df[\"Date\"].dt.month\n",
    "df[\"day\"] = df[\"Date\"].dt.day\n",
    "df[\"year\"] = df [\"Date\"].dt.year"
   ]
  },
  {
   "cell_type": "code",
   "execution_count": 30,
   "id": "ed0ade9d-9da7-4644-a614-94b9d0497775",
   "metadata": {},
   "outputs": [],
   "source": [
    "#ลบ column Date\n",
    "df.drop(\"Date\", axis=1, inplace=True)"
   ]
  },
  {
   "cell_type": "code",
   "execution_count": 31,
   "id": "9890b0a4-937c-419c-ab37-431b95fa8c74",
   "metadata": {},
   "outputs": [
    {
     "data": {
      "text/plain": [
       "Car_id           object\n",
       "Customer Name    object\n",
       "Gender           object\n",
       "Annual Income     int64\n",
       "Dealer_Name      object\n",
       "Company          object\n",
       "Model            object\n",
       "Engine           object\n",
       "Transmission     object\n",
       "Color            object\n",
       "Price ($)         int64\n",
       "Dealer_No        object\n",
       "Body Style       object\n",
       "Phone             int64\n",
       "Dealer_Region    object\n",
       "month             int32\n",
       "day               int32\n",
       "year              int32\n",
       "dtype: object"
      ]
     },
     "execution_count": 31,
     "metadata": {},
     "output_type": "execute_result"
    }
   ],
   "source": [
    "df.dtypes"
   ]
  },
  {
   "cell_type": "code",
   "execution_count": 32,
   "id": "aae51cbe-b38c-4f7d-8cf6-6e4e0f609ba3",
   "metadata": {},
   "outputs": [
    {
     "data": {
      "text/plain": [
       "Index(['Car_id', 'Customer Name', 'Gender', 'Annual Income', 'Dealer_Name',\n",
       "       'Company', 'Model', 'Engine', 'Transmission', 'Color', 'Price ($)',\n",
       "       'Dealer_No ', 'Body Style', 'Phone', 'Dealer_Region', 'month', 'day',\n",
       "       'year'],\n",
       "      dtype='object')"
      ]
     },
     "execution_count": 32,
     "metadata": {},
     "output_type": "execute_result"
    }
   ],
   "source": [
    "df.columns"
   ]
  },
  {
   "cell_type": "code",
   "execution_count": 33,
   "id": "be973b42-20af-40e6-b544-cc67890b2a55",
   "metadata": {},
   "outputs": [
    {
     "data": {
      "text/plain": [
       "Index(['Car_id', 'Customer Name', 'Gender', 'Annual Income', 'Dealer_Name',\n",
       "       'Company', 'Model', 'Engine', 'Transmission', 'Color', 'Price ($)',\n",
       "       'Dealer_No', 'Body Style', 'Phone', 'Dealer_Region', 'month', 'day',\n",
       "       'year'],\n",
       "      dtype='object')"
      ]
     },
     "execution_count": 33,
     "metadata": {},
     "output_type": "execute_result"
    }
   ],
   "source": [
    "#ทำการ clean ชื่อ column ด้วยการ str.strip()\n",
    "df.columns = df.columns.str.strip() \n",
    "df.columns"
   ]
  },
  {
   "cell_type": "code",
   "execution_count": 34,
   "id": "98d2cd01-a6a8-4059-9aee-02e7a970d95a",
   "metadata": {},
   "outputs": [
    {
     "data": {
      "text/plain": [
       "Car_id           0\n",
       "Customer Name    1\n",
       "Gender           0\n",
       "Annual Income    0\n",
       "Dealer_Name      0\n",
       "Company          0\n",
       "Model            0\n",
       "Engine           0\n",
       "Transmission     0\n",
       "Color            0\n",
       "Price ($)        0\n",
       "Dealer_No        0\n",
       "Body Style       0\n",
       "Phone            0\n",
       "Dealer_Region    0\n",
       "month            0\n",
       "day              0\n",
       "year             0\n",
       "dtype: int64"
      ]
     },
     "execution_count": 34,
     "metadata": {},
     "output_type": "execute_result"
    }
   ],
   "source": [
    "#ตรวจสอบข้อมูลที่เป็น null ในชุดข้อมูล\n",
    "df.isnull().sum()"
   ]
  },
  {
   "cell_type": "code",
   "execution_count": 35,
   "id": "535a4276",
   "metadata": {},
   "outputs": [],
   "source": [
    "# คำถามที่จะหาจากชุดข้อมูล\n",
    "# 1. รถยี่ห้อใดขายดีที่สุด 10 อันดับแรก?\n",
    "# 2. รถรุ่นไหนขายดีที่สุด 10 อันดับแรก?\n",
    "# 3. รถประเภทใดเป็นที่นิยมมากที่สุด?"
   ]
  },
  {
   "cell_type": "code",
   "execution_count": 36,
   "id": "18a91d35",
   "metadata": {},
   "outputs": [
    {
     "data": {
      "text/plain": [
       "Company\n",
       "Chevrolet     1819\n",
       "Dodge         1671\n",
       "Ford          1614\n",
       "Volkswagen    1333\n",
       "Mercedes-B    1285\n",
       "Mitsubishi    1277\n",
       "Chrysler      1120\n",
       "Oldsmobile    1111\n",
       "Toyota        1110\n",
       "Nissan         886\n",
       "Name: Company, dtype: int64"
      ]
     },
     "execution_count": 36,
     "metadata": {},
     "output_type": "execute_result"
    }
   ],
   "source": [
    "# 1. รถยี่ห้อใดขายดีที่สุด 10 อันดับแรก?\n",
    "brand_most_selling = df.groupby(\"Company\")[\"Company\"].count().reindex().sort_values(ascending=False).head(10)\n",
    "brand_most_selling"
   ]
  },
  {
   "cell_type": "code",
   "execution_count": 37,
   "id": "b9db5ba9",
   "metadata": {},
   "outputs": [
    {
     "data": {
      "text/plain": [
       "Model\n",
       "Diamante      418\n",
       "Silhouette    411\n",
       "Prizm         411\n",
       "Passat        391\n",
       "Ram Pickup    383\n",
       "Jetta         382\n",
       "RL            372\n",
       "LS400         354\n",
       "LHS           330\n",
       "A6            329\n",
       "Name: Model, dtype: int64"
      ]
     },
     "execution_count": 37,
     "metadata": {},
     "output_type": "execute_result"
    }
   ],
   "source": [
    "# 2. รถรุ่นไหนขายดีที่สุด 10 อันดับแรก?\n",
    "model_most_selling = df.groupby([\"Model\"])[\"Model\"].count().reindex().sort_values(ascending=False).head(10)\n",
    "model_most_selling"
   ]
  },
  {
   "cell_type": "code",
   "execution_count": 38,
   "id": "5dc8bf2b",
   "metadata": {},
   "outputs": [
    {
     "data": {
      "text/plain": [
       "Transmission\n",
       "Auto      12571\n",
       "Manual    11335\n",
       "Name: Transmission, dtype: int64"
      ]
     },
     "execution_count": 38,
     "metadata": {},
     "output_type": "execute_result"
    }
   ],
   "source": [
    "# 3. รถประเภทใดเป็นที่นิยมมากที่สุด?\n",
    "transmission_most_selling = df.groupby(\"Transmission\")[\"Transmission\"].count().reindex().sort_values(ascending=False)\n",
    "transmission_most_selling"
   ]
  },
  {
   "cell_type": "code",
   "execution_count": 39,
   "id": "2fc05615",
   "metadata": {},
   "outputs": [
    {
     "data": {
      "text/plain": [
       "Model\n",
       "Jetta       280\n",
       "Passat      260\n",
       "LHS         257\n",
       "300M        243\n",
       "Explorer    225\n",
       "323i        223\n",
       "Diamante    205\n",
       "LS400       200\n",
       "Viper       192\n",
       "Metro       191\n",
       "Name: Model, dtype: int64"
      ]
     },
     "execution_count": 39,
     "metadata": {},
     "output_type": "execute_result"
    }
   ],
   "source": [
    "# 4. รถประเภท auto model ไหนเป็นที่นิยมมากที่สุด?\n",
    "df_auto = df[df[\"Transmission\"] == \"Auto\"]\n",
    "auto_model_most_selling = df_auto.groupby(\"Model\")[\"Model\"].count().reindex().sort_values(ascending=False).head(10)\n",
    "auto_model_most_selling"
   ]
  },
  {
   "cell_type": "code",
   "execution_count": 40,
   "id": "c713c6cb",
   "metadata": {},
   "outputs": [
    {
     "data": {
      "text/plain": [
       "Model\n",
       "RL             317\n",
       "Ram Pickup     269\n",
       "Silhouette     258\n",
       "Prizm          257\n",
       "A6             217\n",
       "528i           216\n",
       "Diamante       213\n",
       "Continental    206\n",
       "S40            179\n",
       "Malibu         171\n",
       "Name: Model, dtype: int64"
      ]
     },
     "execution_count": 40,
     "metadata": {},
     "output_type": "execute_result"
    }
   ],
   "source": [
    "# 5. รถประเภท Manual  model ไหนเป็นที่นิยมมากที่สุด?\n",
    "df_manual = df[df[\"Transmission\"] == \"Manual\"]\n",
    "manual_model_most_selling = df_manual.groupby(\"Model\")[\"Model\"].count().reindex().sort_values(ascending=False).head(10)\n",
    "manual_model_most_selling"
   ]
  },
  {
   "cell_type": "code",
   "execution_count": 41,
   "id": "57b8fe4b",
   "metadata": {},
   "outputs": [
    {
     "data": {
      "text/plain": [
       "month\n",
       "1      65\n",
       "2      63\n",
       "3     104\n",
       "4     124\n",
       "5     155\n",
       "6     123\n",
       "7     132\n",
       "8     135\n",
       "9     260\n",
       "10    129\n",
       "11    268\n",
       "12    261\n",
       "Name: month, dtype: int64"
      ]
     },
     "execution_count": 41,
     "metadata": {},
     "output_type": "execute_result"
    }
   ],
   "source": [
    "#แนวโน้มจำนวนการขายรถ ของ Chevrolet  ตามเดือน\n",
    "df_chevrolet_selling = df[df['Company'] == 'Chevrolet']\n",
    "chevrolet_selling_by_month = df_chevrolet_selling.groupby(\"month\")[\"month\"].count().sort_index(ascending=True)\n",
    "chevrolet_selling_by_month\n"
   ]
  },
  {
   "cell_type": "code",
   "execution_count": 42,
   "id": "803d4231",
   "metadata": {},
   "outputs": [
    {
     "data": {
      "text/plain": [
       "month\n",
       "1      53\n",
       "2      60\n",
       "3      94\n",
       "4     123\n",
       "5     128\n",
       "6     113\n",
       "7     102\n",
       "8     118\n",
       "9     256\n",
       "10    125\n",
       "11    247\n",
       "12    252\n",
       "Name: month, dtype: int64"
      ]
     },
     "execution_count": 42,
     "metadata": {},
     "output_type": "execute_result"
    }
   ],
   "source": [
    "#แนวโน้มจำนวนการขายรถ ของ  Dodge   ตามเดือน\n",
    "df_dodge_selling = df[df['Company'] == 'Dodge']\n",
    "dodge_selling_by_month = df_dodge_selling.groupby(\"month\")[\"month\"].count().sort_index(ascending=True)\n",
    "dodge_selling_by_month"
   ]
  },
  {
   "cell_type": "code",
   "execution_count": 43,
   "id": "9f182a56",
   "metadata": {},
   "outputs": [
    {
     "data": {
      "text/plain": [
       "month\n",
       "1      50\n",
       "2      46\n",
       "3     112\n",
       "4     101\n",
       "5     107\n",
       "6     127\n",
       "7     126\n",
       "8     115\n",
       "9     226\n",
       "10    131\n",
       "11    230\n",
       "12    243\n",
       "Name: month, dtype: int64"
      ]
     },
     "execution_count": 43,
     "metadata": {},
     "output_type": "execute_result"
    }
   ],
   "source": [
    "#แนวโน้มจำนวนการขายรถ ของ Ford  ตามเดือน\n",
    "df_ford_selling = df[df['Company'] == 'Ford']\n",
    "ford_selling_by_month = df_ford_selling.groupby(\"month\")[\"month\"].count().sort_index(ascending=True)\n",
    "ford_selling_by_month"
   ]
  },
  {
   "cell_type": "code",
   "execution_count": 44,
   "id": "98c46472",
   "metadata": {},
   "outputs": [
    {
     "data": {
      "text/plain": [
       "month\n",
       "1      38\n",
       "2      32\n",
       "3      77\n",
       "4      98\n",
       "5     100\n",
       "6      98\n",
       "7     104\n",
       "8      91\n",
       "9     202\n",
       "10    106\n",
       "11    198\n",
       "12    189\n",
       "Name: month, dtype: int64"
      ]
     },
     "execution_count": 44,
     "metadata": {},
     "output_type": "execute_result"
    }
   ],
   "source": [
    "#แนวโน้มจำนวนการขายรถ ของ Volkswagen  ตามเดือน\n",
    "df_volkswagen_selling = df[df['Company'] == 'Volkswagen']\n",
    "volkswagen_selling_by_month = df_volkswagen_selling.groupby(\"month\")[\"month\"].count().sort_index(ascending=True)\n",
    "volkswagen_selling_by_month"
   ]
  },
  {
   "cell_type": "code",
   "execution_count": 45,
   "id": "ff7bbdc2",
   "metadata": {},
   "outputs": [],
   "source": [
    "import matplotlib.pyplot as plt\n",
    "import seaborn as sns"
   ]
  },
  {
   "cell_type": "code",
   "execution_count": 46,
   "id": "03bdf95c",
   "metadata": {},
   "outputs": [
    {
     "data": {
      "image/png": "[encoded data removed]",
      "text/plain": [
       "<Figure size 1200x600 with 1 Axes>"
      ]
     },
     "metadata": {},
     "output_type": "display_data"
    }
   ],
   "source": [
    "plt.figure(figsize=(12, 6))\n",
    "\n",
    "# กราฟเส้นสำหรับ Chevrolet\n",
    "sns.lineplot(x=chevrolet_selling_by_month.index, y=chevrolet_selling_by_month.values, marker='o', label='Chevrolet')\n",
    "\n",
    "# กราฟเส้นสำหรับ Dodge\n",
    "sns.lineplot(x=dodge_selling_by_month.index, y=dodge_selling_by_month.values, marker='o', label='Dodge')\n",
    "\n",
    "# กราฟเส้นสำหรับ Ford\n",
    "sns.lineplot(x=ford_selling_by_month.index, y=ford_selling_by_month.values, marker='o', label='Ford')\n",
    "\n",
    "# กราฟเส้นสำหรับ Volkswagen\n",
    "sns.lineplot(x=volkswagen_selling_by_month.index, y=volkswagen_selling_by_month.values, marker='o', label='Volkswagen')\n",
    "\n",
    "\n",
    "plt.xlabel('Month')\n",
    "plt.ylabel('Number of Cars Sold')\n",
    "plt.title('Sales Trend Comparison: Chevrolet vs. Dodge vs. Ford')\n",
    "plt.xticks(range(1, 13))  # กำหนดให้แกน x แสดงเดือน 1-12\n",
    "plt.grid(True)\n",
    "plt.legend()\n",
    "plt.show()"
   ]
  },
  {
   "cell_type": "code",
   "execution_count": null,
   "id": "3bcf282f",
   "metadata": {},
   "outputs": [],
   "source": []
  }
 ],
 "metadata": {
  "kernelspec": {
   "display_name": "base",
   "language": "python",
   "name": "python3"
  },
  "language_info": {
   "codemirror_mode": {
    "name": "ipython",
    "version": 3
   },
   "file_extension": ".py",
   "mimetype": "text/x-python",
   "name": "python",
   "nbconvert_exporter": "python",
   "pygments_lexer": "ipython3",
   "version": "3.12.3"
  }
 },
 "nbformat": 4,
 "nbformat_minor": 5
}
